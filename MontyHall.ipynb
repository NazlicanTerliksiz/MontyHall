{
  "metadata": {
    "language_info": {
      "codemirror_mode": {
        "name": "python",
        "version": 3
      },
      "file_extension": ".py",
      "mimetype": "text/x-python",
      "name": "python",
      "nbconvert_exporter": "python",
      "pygments_lexer": "ipython3",
      "version": "3.8"
    },
    "kernelspec": {
      "name": "python",
      "display_name": "Pyolite",
      "language": "python"
    },
    "colab": {
      "name": "MontyHall.ipynb",
      "provenance": []
    }
  },
  "nbformat_minor": 0,
  "nbformat": 4,
  "cells": [
    {
      "cell_type": "code",
      "source": [
        "#Running Random instead of Numpy to return lists\n",
        "import random"
      ],
      "metadata": {
        "trusted": true,
        "id": "LVqI8ao_kuf3"
      },
      "execution_count": null,
      "outputs": []
    },
    {
      "cell_type": "code",
      "source": [
        "#shuffle() randomly fetches items\n",
        "doors = ['car', 'goat', 'goat']\n",
        "random.shuffle(doors)\n",
        "doors"
      ],
      "metadata": {
        "trusted": true,
        "id": "4TFVV6ywkuf4",
        "outputId": "94aa873c-cfec-4a06-b2dc-37336f8ba907"
      },
      "execution_count": null,
      "outputs": [
        {
          "execution_count": 22,
          "output_type": "execute_result",
          "data": {
            "text/plain": "['car', 'goat', 'goat']"
          },
          "metadata": {}
        }
      ]
    },
    {
      "cell_type": "code",
      "source": [
        "#Random door selected with random.choice()\n",
        "my_door_index = random.choice([0, 1, 2])\n",
        "my_door_index"
      ],
      "metadata": {
        "trusted": true,
        "id": "tl6xIVvFkuf6",
        "outputId": "fd9867c9-6569-4894-eb71-5cd4694a6a96"
      },
      "execution_count": null,
      "outputs": [
        {
          "execution_count": 23,
          "output_type": "execute_result",
          "data": {
            "text/plain": "0"
          },
          "metadata": {}
        }
      ]
    },
    {
      "cell_type": "code",
      "source": [
        "#The selected door has been removed from the list\n",
        "stay_result = doors.pop(my_door_index)\n",
        "stay_result"
      ],
      "metadata": {
        "trusted": true,
        "id": "hiEnTvR1kuf6",
        "outputId": "6eab1f46-6fc1-4434-dac0-da088cdd07a0"
      },
      "execution_count": null,
      "outputs": [
        {
          "execution_count": 24,
          "output_type": "execute_result",
          "data": {
            "text/plain": "'car'"
          },
          "metadata": {}
        }
      ]
    },
    {
      "cell_type": "code",
      "source": [
        "#2 doors left to choose\n",
        "doors"
      ],
      "metadata": {
        "trusted": true,
        "id": "u3wwXXL-kuf7",
        "outputId": "550a71d6-7aa9-4d6a-9d94-665ede735155"
      },
      "execution_count": null,
      "outputs": [
        {
          "execution_count": 25,
          "output_type": "execute_result",
          "data": {
            "text/plain": "['goat', 'goat']"
          },
          "metadata": {}
        }
      ]
    },
    {
      "cell_type": "code",
      "source": [
        "#A goat is lifted behind the door\n",
        "doors.remove('goat')\n",
        "doors"
      ],
      "metadata": {
        "trusted": true,
        "id": "sn4QiCTnkuf7",
        "outputId": "5fca71f6-d68b-4779-dad3-07f60cda731d"
      },
      "execution_count": null,
      "outputs": [
        {
          "execution_count": 26,
          "output_type": "execute_result",
          "data": {
            "text/plain": "['goat']"
          },
          "metadata": {}
        }
      ]
    },
    {
      "cell_type": "code",
      "source": [
        "#There is only one door left. It is the result of passing through our original door, behind this door.\n",
        "switch_result = doors[0]\n",
        "switch_result"
      ],
      "metadata": {
        "trusted": true,
        "id": "dWGBlNHmkuf8",
        "outputId": "b1d4fcf5-68d3-464a-d7d2-f959c7b8d479"
      },
      "execution_count": null,
      "outputs": [
        {
          "execution_count": 27,
          "output_type": "execute_result",
          "data": {
            "text/plain": "'goat'"
          },
          "metadata": {}
        }
      ]
    },
    {
      "cell_type": "code",
      "source": [
        "#10000 attempt\n",
        "n_tries = 100000\n",
        "#Lists to store the results obtained\n",
        "stay_results = []\n",
        "switch_results = []\n",
        "for i in range(n_tries):\n",
        "    doors = ['car', 'goat', 'goat']\n",
        "    random.shuffle(doors)\n",
        "    my_door_index = random.choice([0, 1, 2])\n",
        "    stay_result = doors.pop(my_door_index)\n",
        "    doors.remove('goat')\n",
        "    switch_result = doors[0]\n",
        "    #Results are placed in lists\n",
        "    stay_results.append(stay_result)\n",
        "    switch_results.append(switch_result)"
      ],
      "metadata": {
        "trusted": true,
        "id": "WiyDuk2bkuf8"
      },
      "execution_count": null,
      "outputs": []
    },
    {
      "cell_type": "code",
      "source": [
        "#To count the number of \"cars\" item in each list and get the ratio of achievements divided by the length of the list\n",
        "stay_results.count('car') / n_tries"
      ],
      "metadata": {
        "trusted": true,
        "id": "3HR6xsU7kuf9",
        "outputId": "42024fc2-802c-4a8c-d307-9cb1b120927c"
      },
      "execution_count": null,
      "outputs": [
        {
          "execution_count": 29,
          "output_type": "execute_result",
          "data": {
            "text/plain": "0.33403"
          },
          "metadata": {}
        }
      ]
    },
    {
      "cell_type": "code",
      "source": [
        "switch_results.count('car') / n_tries"
      ],
      "metadata": {
        "trusted": true,
        "id": "kzG5zNGOkuf-",
        "outputId": "0181b329-fe1b-47bf-f1e1-d57e2f6d90bd"
      },
      "execution_count": null,
      "outputs": [
        {
          "execution_count": 30,
          "output_type": "execute_result",
          "data": {
            "text/plain": "0.66597"
          },
          "metadata": {}
        }
      ]
    }
  ]
}